{
 "cells": [
  {
   "cell_type": "markdown",
   "metadata": {},
   "source": [
    "## Time Series Forecating of Samll Size Data\n",
    "Done as part of submission to Barclays Challenge. No fancy methods were allowed to be used and this is my original approach.\n",
    "Will keep improving further\n",
    "### Data:\n",
    "* Training: 1st Jan 2016 to 1st Jan 2018 of MSFT stock prices\n",
    "* Test: 1st Jan 2018 to 1st July 2018\n",
    "\n",
    "### Importing Libraries:\n",
    "1. pandas for reading and operating on the dataframe\n",
    "2. matplotlib for visualizations\n",
    "2. numpy for mathematical operations"
   ]
  },
  {
   "cell_type": "code",
   "execution_count": 97,
   "metadata": {},
   "outputs": [],
   "source": [
    "import numpy as np\n",
    "import pandas as pd\n",
    "from matplotlib import pyplot as plt\n",
    "from sklearn import svm, linear_model"
   ]
  },
  {
   "cell_type": "code",
   "execution_count": 98,
   "metadata": {},
   "outputs": [
    {
     "data": {
      "text/html": [
       "<div>\n",
       "<style scoped>\n",
       "    .dataframe tbody tr th:only-of-type {\n",
       "        vertical-align: middle;\n",
       "    }\n",
       "\n",
       "    .dataframe tbody tr th {\n",
       "        vertical-align: top;\n",
       "    }\n",
       "\n",
       "    .dataframe thead th {\n",
       "        text-align: right;\n",
       "    }\n",
       "</style>\n",
       "<table border=\"1\" class=\"dataframe\">\n",
       "  <thead>\n",
       "    <tr style=\"text-align: right;\">\n",
       "      <th></th>\n",
       "      <th>Date</th>\n",
       "      <th>Open</th>\n",
       "      <th>High</th>\n",
       "      <th>Low</th>\n",
       "      <th>Close</th>\n",
       "      <th>Adj Close</th>\n",
       "      <th>Volume</th>\n",
       "    </tr>\n",
       "  </thead>\n",
       "  <tbody>\n",
       "    <tr>\n",
       "      <th>0</th>\n",
       "      <td>2015-12-31</td>\n",
       "      <td>56.040001</td>\n",
       "      <td>56.189999</td>\n",
       "      <td>55.419998</td>\n",
       "      <td>55.480000</td>\n",
       "      <td>52.144402</td>\n",
       "      <td>27334100</td>\n",
       "    </tr>\n",
       "    <tr>\n",
       "      <th>1</th>\n",
       "      <td>2016-01-04</td>\n",
       "      <td>54.320000</td>\n",
       "      <td>54.799999</td>\n",
       "      <td>53.389999</td>\n",
       "      <td>54.799999</td>\n",
       "      <td>51.505280</td>\n",
       "      <td>53778000</td>\n",
       "    </tr>\n",
       "    <tr>\n",
       "      <th>2</th>\n",
       "      <td>2016-01-05</td>\n",
       "      <td>54.930000</td>\n",
       "      <td>55.389999</td>\n",
       "      <td>54.540001</td>\n",
       "      <td>55.049999</td>\n",
       "      <td>51.740250</td>\n",
       "      <td>34079700</td>\n",
       "    </tr>\n",
       "    <tr>\n",
       "      <th>3</th>\n",
       "      <td>2016-01-06</td>\n",
       "      <td>54.320000</td>\n",
       "      <td>54.400002</td>\n",
       "      <td>53.639999</td>\n",
       "      <td>54.049999</td>\n",
       "      <td>50.800369</td>\n",
       "      <td>39518900</td>\n",
       "    </tr>\n",
       "    <tr>\n",
       "      <th>4</th>\n",
       "      <td>2016-01-07</td>\n",
       "      <td>52.700001</td>\n",
       "      <td>53.490002</td>\n",
       "      <td>52.070000</td>\n",
       "      <td>52.169998</td>\n",
       "      <td>49.033405</td>\n",
       "      <td>56564900</td>\n",
       "    </tr>\n",
       "  </tbody>\n",
       "</table>\n",
       "</div>"
      ],
      "text/plain": [
       "         Date       Open       High        Low      Close  Adj Close    Volume\n",
       "0  2015-12-31  56.040001  56.189999  55.419998  55.480000  52.144402  27334100\n",
       "1  2016-01-04  54.320000  54.799999  53.389999  54.799999  51.505280  53778000\n",
       "2  2016-01-05  54.930000  55.389999  54.540001  55.049999  51.740250  34079700\n",
       "3  2016-01-06  54.320000  54.400002  53.639999  54.049999  50.800369  39518900\n",
       "4  2016-01-07  52.700001  53.490002  52.070000  52.169998  49.033405  56564900"
      ]
     },
     "execution_count": 98,
     "metadata": {},
     "output_type": "execute_result"
    }
   ],
   "source": [
    "df = pd.read_csv(\"./MSFT.csv\")\n",
    "df.head()"
   ]
  },
  {
   "cell_type": "markdown",
   "metadata": {},
   "source": [
    "### Approach:\n",
    "\n",
    "First order differences are found and averages over a month as well as a year are found. This is done to account for fluctuations. \n",
    "The features obtained are regressed"
   ]
  },
  {
   "cell_type": "code",
   "execution_count": 145,
   "metadata": {},
   "outputs": [],
   "source": [
    "dhi = np.diff(df['High'])\n",
    "dlo = np.diff(df['Low'])\n",
    "dcl = np.diff(df['Close'])\n",
    "dop = np.diff(df['Open'])\n",
    "dad = np.diff(df['Adj Close'])"
   ]
  },
  {
   "cell_type": "code",
   "execution_count": 146,
   "metadata": {},
   "outputs": [],
   "source": [
    "mop = np.transpose([np.average(dop[i-20:i]) for i in range(len(df))])\n",
    "wop = np.transpose([np.average(dop[i-5:i]) for i in range(len(df))])\n",
    "mop = np.nan_to_num(mop,0)\n",
    "wop = np.nan_to_num(wop,0)"
   ]
  },
  {
   "cell_type": "code",
   "execution_count": 147,
   "metadata": {},
   "outputs": [],
   "source": [
    "mcl = np.transpose([np.average(dcl[i-20:i]) for i in range(len(df))])\n",
    "wcl = np.transpose([np.average(dcl[i-5:i]) for i in range(len(df))])\n",
    "mcl = np.nan_to_num(mcl,0)\n",
    "wcl = np.nan_to_num(wcl,0)"
   ]
  },
  {
   "cell_type": "code",
   "execution_count": 148,
   "metadata": {},
   "outputs": [],
   "source": [
    "mhi = np.transpose([np.average(dhi[i-20:i]) for i in range(len(df))])\n",
    "whi = np.transpose([np.average(dhi[i-5:i]) for i in range(len(df))])\n",
    "mhi = np.nan_to_num(mhi,0)\n",
    "whi = np.nan_to_num(whi,0)"
   ]
  },
  {
   "cell_type": "code",
   "execution_count": 149,
   "metadata": {},
   "outputs": [],
   "source": [
    "mlo = np.transpose([np.average(dlo[i-20:i]) for i in range(len(df))])\n",
    "wlo = np.transpose([np.average(dlo[i-5:i]) for i in range(len(df))])\n",
    "mlo = np.nan_to_num(mlo,0)\n",
    "wlo = np.nan_to_num(wlo,0)"
   ]
  },
  {
   "cell_type": "code",
   "execution_count": 150,
   "metadata": {},
   "outputs": [],
   "source": [
    "mad = np.transpose([np.average(dad[i-20:i]) for i in range(len(df))])\n",
    "wad = np.transpose([np.average(dad[i-5:i]) for i in range(len(df))])\n",
    "mad = np.nan_to_num(mad,0)\n",
    "wad = np.nan_to_num(wad,0)"
   ]
  },
  {
   "cell_type": "code",
   "execution_count": 151,
   "metadata": {},
   "outputs": [
    {
     "data": {
      "text/plain": [
       "(504, 10)"
      ]
     },
     "execution_count": 151,
     "metadata": {},
     "output_type": "execute_result"
    }
   ],
   "source": [
    "X_train = np.array([mcl, wcl, mop, wop, mad, wad, mhi, whi, mlo, wlo]).transpose()\n",
    "X_train.shape"
   ]
  },
  {
   "cell_type": "code",
   "execution_count": 152,
   "metadata": {},
   "outputs": [],
   "source": [
    "y_train = df['Adj Close']\n",
    "last = y_train[len(y_train)-1]\n",
    "av = np.average(y_train)"
   ]
  },
  {
   "cell_type": "code",
   "execution_count": 153,
   "metadata": {},
   "outputs": [],
   "source": [
    "df2 = pd.read_csv('MSFT_test.csv')"
   ]
  },
  {
   "cell_type": "code",
   "execution_count": 154,
   "metadata": {},
   "outputs": [
    {
     "data": {
      "text/plain": [
       "LinearRegression(copy_X=True, fit_intercept=True, n_jobs=1, normalize=False)"
      ]
     },
     "execution_count": 154,
     "metadata": {},
     "output_type": "execute_result"
    }
   ],
   "source": [
    "clf = linear_model.LinearRegression()\n",
    "clf.fit(X_train, y_train)"
   ]
  },
  {
   "cell_type": "code",
   "execution_count": 155,
   "metadata": {},
   "outputs": [],
   "source": [
    "window = 20\n",
    "predictions = []\n",
    "\n",
    "for t in range(len(X_train),len(X_train)+len(df2)):\n",
    "    mad = np.append(mad,np.mean(mad[t-window:t])+np.std(mad[t-window:t]))\n",
    "    mcl = np.append(mcl,np.mean(mad[t-window:t])+np.std(mad[t-window:t]))\n",
    "    mlo = np.append(mlo,np.mean(mad[t-window:t])+np.std(mad[t-window:t]))\n",
    "    mhi = np.append(mhi,np.mean(mad[t-window:t])+np.std(mad[t-window:t]))\n",
    "    mop = np.append(mop,np.mean(mad[t-window:t])+np.std(mad[t-window:t]))\n",
    "    wad = np.append(wad,np.mean(wad[t-window//4:t])+np.std(mad[t-window//4:t]))\n",
    "    wcl = np.append(wcl,np.mean(wad[t-window//4:t])+np.std(mad[t-window//4:t]))\n",
    "    wlo = np.append(wlo,np.mean(wad[t-window//4:t])+np.std(mad[t-window//4:t]))\n",
    "    whi = np.append(whi,np.mean(wad[t-window//4:t])+np.std(mad[t-window//4:t]))\n",
    "    wop = np.append(wop,np.mean(wad[t-window//4:t])+np.std(mad[t-window//4:t]))\n",
    "    X_test = np.array([mcl, wcl, mop, wop, mad, wad, mhi, whi, mlo, wlo]).transpose()\n",
    "    y_hat = (last/av)*clf.predict(X_test[len(X_train):])\n",
    "    #y_hat = (X_test[t-1]//np.average(X_test[t-100:t]))*clf.predict(X_test[t].reshape(10,1))\n",
    "    \n",
    "history = df2['Adj Close']"
   ]
  },
  {
   "cell_type": "code",
   "execution_count": 156,
   "metadata": {},
   "outputs": [
    {
     "name": "stdout",
     "output_type": "stream",
     "text": [
      "1.8561433165771068\n"
     ]
    }
   ],
   "source": [
    "error = np.sqrt(np.average(np.array(df2['Adj Close'])-y_hat)**2)\n",
    "print(error)"
   ]
  },
  {
   "cell_type": "code",
   "execution_count": 157,
   "metadata": {},
   "outputs": [],
   "source": [
    "inc = [0]\n",
    "for i in range(1,len(y_hat)):\n",
    "    if(y_hat[i]>y_hat[i-1]):\n",
    "        inc.append(1)\n",
    "    elif(y_hat[i]<y_hat[i-1]):\n",
    "        inc.append(-1)\n",
    "    else:\n",
    "        inc.append(0)"
   ]
  },
  {
   "cell_type": "code",
   "execution_count": 158,
   "metadata": {},
   "outputs": [],
   "source": [
    "chg = [0]\n",
    "for i in range(1,len(history)):\n",
    "    if(history[i]>history[i-1]):\n",
    "        chg.append(1)\n",
    "    elif(history[i]<history[i-1]):\n",
    "        chg.append(-1)\n",
    "    else:\n",
    "        chg.append(0)"
   ]
  },
  {
   "cell_type": "code",
   "execution_count": 159,
   "metadata": {},
   "outputs": [
    {
     "name": "stdout",
     "output_type": "stream",
     "text": [
      "[[16  0 38]\n",
      " [ 0  1  1]\n",
      " [13  0 56]]\n"
     ]
    }
   ],
   "source": [
    "from sklearn.metrics import confusion_matrix, f1_score\n",
    "print(confusion_matrix(chg,inc))\n"
   ]
  },
  {
   "cell_type": "code",
   "execution_count": 160,
   "metadata": {},
   "outputs": [
    {
     "name": "stdout",
     "output_type": "stream",
     "text": [
      "0.6829268292682926\n",
      "0.6946107784431137\n",
      "Average f1 Score:0.6887688038557032\n"
     ]
    }
   ],
   "source": [
    "chg1 = np.array(chg)\n",
    "np.place(chg1,chg1==0,-1)\n",
    "inc1 = np.array(inc)\n",
    "np.place(inc1,inc1==0,-1)\n",
    "f1p = f1_score(chg1,inc1)\n",
    "print(f1p)\n",
    "\n",
    "chg2 = np.array(chg)\n",
    "np.place(chg2,chg2==0,1)\n",
    "inc2 = np.array(inc)\n",
    "np.place(inc2,inc2==0,1)\n",
    "f2p = f1_score(chg2,inc2)\n",
    "print(f2p)\n",
    "\n",
    "print(\"Average f1 Score:\"+str((f1p+f2p)/2))"
   ]
  },
  {
   "cell_type": "code",
   "execution_count": 161,
   "metadata": {},
   "outputs": [
    {
     "data": {
      "text/plain": [
       "[<matplotlib.lines.Line2D at 0x7fbc4cedd050>]"
      ]
     },
     "execution_count": 161,
     "metadata": {},
     "output_type": "execute_result"
    },
    {
     "data": {
      "image/png": "[encoded data removed]",
      "text/plain": [
       "<Figure size 432x288 with 1 Axes>"
      ]
     },
     "metadata": {},
     "output_type": "display_data"
    }
   ],
   "source": [
    "plt.plot(y_hat)"
   ]
  },
  {
   "cell_type": "code",
   "execution_count": 31,
   "metadata": {},
   "outputs": [
    {
     "data": {
      "text/plain": [
       "array([88.57615184, 89.07811941, 89.37506627, 89.48955952, 89.72914105,\n",
       "       89.53555645, 89.72450076, 89.99336626, 90.2571549 , 90.52937885,\n",
       "       90.79462172, 90.81385413, 90.72118442, 90.8326454 , 91.09261529,\n",
       "       91.35124655, 91.61651542, 91.80965139, 91.66480723, 91.81131025,\n",
       "       91.38423583, 91.44162903, 91.50581722, 91.57037135, 91.62878982,\n",
       "       91.68647028, 91.71949979, 91.74237639, 91.76189374, 91.78073682,\n",
       "       91.8029103 , 91.83020398, 91.85163493, 91.85303678, 91.84209435,\n",
       "       91.83767763, 91.84533223, 91.85830888, 91.86279986, 91.87535048,\n",
       "       91.8810495 , 91.88518251, 91.88699335, 91.88747464, 91.88754541,\n",
       "       91.88772807, 91.88913255, 91.89053154, 91.89148315, 91.89189805,\n",
       "       91.89188494, 91.89209913, 91.89335692, 91.89510886, 91.89680811,\n",
       "       91.89787415, 91.89784404, 91.89735047, 91.89715761, 91.89644579,\n",
       "       91.89642271, 91.89659511, 91.89688962, 91.89719944, 91.8974804 ,\n",
       "       91.89770379, 91.89784982, 91.89799046, 91.89814046, 91.89828578,\n",
       "       91.89839983, 91.89843495, 91.89835397, 91.8982484 , 91.89823336,\n",
       "       91.89829501, 91.89833012, 91.89836951, 91.8984313 , 91.89849699,\n",
       "       91.89853991, 91.89855972, 91.89856245, 91.89855831, 91.8985534 ,\n",
       "       91.89855118, 91.89855177, 91.89855157, 91.89855285, 91.89855909,\n",
       "       91.89856949, 91.89857976, 91.89858942, 91.89860054, 91.89860726,\n",
       "       91.89860839, 91.89860914, 91.89860735, 91.89860286, 91.8985993 ,\n",
       "       91.89859954, 91.89860158, 91.89860376, 91.89860595, 91.89860814,\n",
       "       91.89861017, 91.89861193, 91.89861337, 91.89861428, 91.89861445,\n",
       "       91.89861405, 91.89861352, 91.89861309, 91.89861302, 91.89861346,\n",
       "       91.89861387, 91.89861426, 91.89861464, 91.8986151 , 91.89861559,\n",
       "       91.89861585, 91.89861593, 91.89861592, 91.89861585, 91.89861575])"
      ]
     },
     "execution_count": 31,
     "metadata": {},
     "output_type": "execute_result"
    }
   ],
   "source": [
    "y_hat"
   ]
  },
  {
   "cell_type": "code",
   "execution_count": null,
   "metadata": {},
   "outputs": [],
   "source": []
  }
 ],
 "metadata": {
  "kernelspec": {
   "display_name": "Python 3",
   "language": "python",
   "name": "python3"
  },
  "language_info": {
   "codemirror_mode": {
    "name": "ipython",
    "version": 2
   },
   "file_extension": ".py",
   "mimetype": "text/x-python",
   "name": "python",
   "nbconvert_exporter": "python",
   "pygments_lexer": "ipython2",
   "version": "2.7.12"
  }
 },
 "nbformat": 4,
 "nbformat_minor": 2
}
